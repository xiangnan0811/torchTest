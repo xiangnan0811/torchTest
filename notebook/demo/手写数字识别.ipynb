{
 "cells": [
  {
   "cell_type": "markdown",
   "metadata": {},
   "source": [
    "# 1. 背景说明"
   ]
  },
  {
   "cell_type": "markdown",
   "metadata": {},
   "source": [
    "本例为利用 pytorch 神经网络完成对手写数字进行识别的示例。\n",
    "主要步骤：\n",
    "1. 利用 Pytorch 内置函数 mnist 下载数据；\n",
    "2. 利用 torchvision 对数据进行预处理，调用 torc.utils 建立一个数据迭代器；\n",
    "3. 可视化源数据；\n",
    "4. 利用 nn 工具箱构建神经网络模型；\n",
    "5. 实例化模型，并定义损失函数及优化器；\n",
    "6. 训练模型；\n",
    "7. 可视化结果。"
   ]
  },
  {
   "cell_type": "markdown",
   "metadata": {},
   "source": [
    "# 2. 准备数据"
   ]
  },
  {
   "cell_type": "markdown",
   "metadata": {},
   "source": [
    "## 2.1 导入必要的模块"
   ]
  },
  {
   "cell_type": "code",
   "execution_count": 24,
   "metadata": {},
   "outputs": [],
   "source": [
    "import numpy as np\n",
    "import torch\n",
    "# 导入 PyTorch 内置的mnist 数据\n",
    "from torchvision.datasets import mnist\n",
    "# 导入预处理模块\n",
    "from torchvision import transforms as transforms\n",
    "from torch.utils.data import DataLoader\n",
    "# 导入 nn 及优化器\n",
    "import torch.nn.functional as F\n",
    "import torch.optim as optim\n",
    "from torch import nn"
   ]
  },
  {
   "cell_type": "markdown",
   "metadata": {},
   "source": [
    "## 2.2 定义一些超参数"
   ]
  },
  {
   "cell_type": "code",
   "execution_count": 25,
   "metadata": {},
   "outputs": [],
   "source": [
    "train_batch_size = 64\n",
    "test_batch_size = 128\n",
    "learning_rate = 0.01\n",
    "num_epochs = 30\n",
    "lr = 0.01\n",
    "momentum = 0.5"
   ]
  },
  {
   "cell_type": "markdown",
   "metadata": {},
   "source": [
    "## 2.3 下载数据并进行预处理"
   ]
  },
  {
   "cell_type": "code",
   "execution_count": 26,
   "metadata": {},
   "outputs": [],
   "source": [
    "# 定义预处理函数，这些预处理依次放在 Compose 函数中\n",
    "transform = transforms.Compose([transforms.ToTensor(),transforms.Normalize((0.5,), (0.5,))])\n",
    "# 下载数据 并进行预处理\n",
    "train_dataset = mnist.MNIST(root='../../data', train=True, transform=transform, download=True)\n",
    "test_dataset = mnist.MNIST(root='../../data', train=False, transform=transform, download=True)\n",
    "# dataloader 是一个可迭代对象\n",
    "train_loader = DataLoader(dataset=train_dataset, batch_size=train_batch_size, shuffle=True)\n",
    "test_loader = DataLoader(dataset=test_dataset, batch_size=test_batch_size, shuffle=False)"
   ]
  },
  {
   "cell_type": "markdown",
   "metadata": {},
   "source": [
    "> 说明\n",
    "1. transforms.Compose 可以把一些转换函数组合在一起；\n",
    "2. Normalize((0.5,), (0.5,)) 对张量进行归一化，两个 0.5 分别表示对张量进行归一化的全局平均值和方差。因图像是灰色的，只有一个通道，如果有多个通道，需要有多个数字，如3个通道，应该是 Normalize((m1, m2, m3), (n1, n2, n3)))；\n",
    "3. download 参数控制是否需要下载；\n",
    "4. 用 DataLoader 得到生成器，这可节省内存。"
   ]
  },
  {
   "cell_type": "markdown",
   "metadata": {},
   "source": [
    "# 3. 可视化源数据"
   ]
  },
  {
   "cell_type": "code",
   "execution_count": 27,
   "metadata": {},
   "outputs": [
    {
     "data": {
      "image/png": "[encoded data removed]",
      "text/plain": [
       "<Figure size 432x288 with 6 Axes>"
      ]
     },
     "metadata": {},
     "output_type": "display_data"
    }
   ],
   "source": [
    "import matplotlib.pyplot as plt\n",
    "%matplotlib inline\n",
    "\n",
    "examples = enumerate(test_loader)\n",
    "batch_idx, (example_data, example_targets) = next(examples)\n",
    "\n",
    "fig = plt.figure()\n",
    "for i in range(6):\n",
    "    plt.subplot(2,3,i+1)\n",
    "    plt.tight_layout()\n",
    "    plt.imshow(example_data[i][0], cmap='gray', interpolation='none')\n",
    "    plt.title(\"Ground Truth: {}\".format(example_targets[i]))\n",
    "    plt.xticks([])\n",
    "    plt.yticks([])"
   ]
  },
  {
   "cell_type": "markdown",
   "metadata": {},
   "source": [
    "# 4. 构建模型"
   ]
  },
  {
   "cell_type": "markdown",
   "metadata": {},
   "source": [
    "> 数据预处理之后，开始构建网络，创建模型"
   ]
  },
  {
   "cell_type": "markdown",
   "metadata": {},
   "source": [
    "## 4.1 构建网络"
   ]
  },
  {
   "cell_type": "code",
   "execution_count": 28,
   "metadata": {},
   "outputs": [],
   "source": [
    "class Net(nn.Module):\n",
    "    \"\"\"\n",
    "    使用 sequential 来定义网络， Sequential() 函数的功能是将网络的层组合到一起\n",
    "    \"\"\"\n",
    "\n",
    "    def __init__(self, in_dim, out_dim, n_hidden_1, n_hidden_2):\n",
    "        super(Net, self).__init__()\n",
    "        self.layer1 = nn.Sequential(nn.Linear(in_dim, n_hidden_1), nn.BatchNorm1d(n_hidden_1))\n",
    "        self.layer2 = nn.Sequential(nn.Linear(n_hidden_1, n_hidden_2), nn.BatchNorm1d(n_hidden_2))\n",
    "        self.layer3 = nn.Sequential(nn.Linear(n_hidden_2, out_dim))\n",
    "\n",
    "    def forward(self, x):\n",
    "        x = F.relu(self.layer1(x))\n",
    "        x = F.relu(self.layer2(x))\n",
    "        x = self.layer3(x)\n",
    "        return x"
   ]
  },
  {
   "cell_type": "markdown",
   "metadata": {},
   "source": [
    "## 4.2 实例化网络"
   ]
  },
  {
   "cell_type": "code",
   "execution_count": 29,
   "metadata": {},
   "outputs": [],
   "source": [
    "# 检测是否有可用的 GPU ，如果有，则使用 GPU\n",
    "device = torch.device(\"cuda:0\" if torch.cuda.is_available() else \"cpu\")\n",
    "# 实例化网络\n",
    "model = Net(28*28, 300, 100, 10)\n",
    "model.to(device)\n",
    "\n",
    "# 定义损失函数和优化器\n",
    "criterion = nn.CrossEntropyLoss()\n",
    "optimizer = optim.SGD(model.parameters(), lr=lr, momentum=momentum)"
   ]
  },
  {
   "cell_type": "markdown",
   "metadata": {},
   "source": [
    "# 5. 训练模型"
   ]
  },
  {
   "cell_type": "markdown",
   "metadata": {},
   "source": [
    "**训练模型，这里使用for循环进行迭代。其中包括对训练数据的训练模型，然后用测试数据的进行验证的验证模型**"
   ]
  },
  {
   "cell_type": "markdown",
   "metadata": {},
   "source": [
    "## 5.1 训练模型"
   ]
  },
  {
   "cell_type": "code",
   "execution_count": 30,
   "metadata": {},
   "outputs": [
    {
     "name": "stdout",
     "output_type": "stream",
     "text": [
      "Epoch: 0, Train Loss: 4.6511, Train Acc: 0.3475, Eval Loss: 3.7426, Eval Acc: 0.6158\n",
      "Epoch: 1, Train Loss: 2.8722, Train Acc: 0.6641, Eval Loss: 1.9234, Eval Acc: 0.7254\n",
      "Epoch: 2, Train Loss: 1.3690, Train Acc: 0.7760, Eval Loss: 0.8506, Eval Acc: 0.8419\n",
      "Epoch: 3, Train Loss: 0.6541, Train Acc: 0.9000, Eval Loss: 0.4369, Eval Acc: 0.9396\n",
      "Epoch: 4, Train Loss: 0.3977, Train Acc: 0.9352, Eval Loss: 0.3065, Eval Acc: 0.9488\n",
      "Epoch: 5, Train Loss: 0.3247, Train Acc: 0.9443, Eval Loss: 0.2942, Eval Acc: 0.9494\n",
      "Epoch: 6, Train Loss: 0.3143, Train Acc: 0.9453, Eval Loss: 0.2854, Eval Acc: 0.9514\n",
      "Epoch: 7, Train Loss: 0.3082, Train Acc: 0.9454, Eval Loss: 0.2801, Eval Acc: 0.9509\n",
      "Epoch: 8, Train Loss: 0.2974, Train Acc: 0.9469, Eval Loss: 0.2708, Eval Acc: 0.9522\n",
      "Epoch: 9, Train Loss: 0.2911, Train Acc: 0.9478, Eval Loss: 0.2680, Eval Acc: 0.9530\n",
      "Epoch: 10, Train Loss: 0.2856, Train Acc: 0.9479, Eval Loss: 0.2638, Eval Acc: 0.9534\n",
      "Epoch: 11, Train Loss: 0.2848, Train Acc: 0.9490, Eval Loss: 0.2632, Eval Acc: 0.9521\n",
      "Epoch: 12, Train Loss: 0.2837, Train Acc: 0.9496, Eval Loss: 0.2645, Eval Acc: 0.9515\n",
      "Epoch: 13, Train Loss: 0.2834, Train Acc: 0.9489, Eval Loss: 0.2601, Eval Acc: 0.9547\n",
      "Epoch: 14, Train Loss: 0.2828, Train Acc: 0.9492, Eval Loss: 0.2598, Eval Acc: 0.9523\n",
      "Epoch: 15, Train Loss: 0.2819, Train Acc: 0.9492, Eval Loss: 0.2569, Eval Acc: 0.9538\n",
      "Epoch: 16, Train Loss: 0.2833, Train Acc: 0.9491, Eval Loss: 0.2573, Eval Acc: 0.9528\n",
      "Epoch: 17, Train Loss: 0.2828, Train Acc: 0.9493, Eval Loss: 0.2598, Eval Acc: 0.9535\n",
      "Epoch: 18, Train Loss: 0.2843, Train Acc: 0.9484, Eval Loss: 0.2585, Eval Acc: 0.9525\n",
      "Epoch: 19, Train Loss: 0.2845, Train Acc: 0.9488, Eval Loss: 0.2594, Eval Acc: 0.9542\n",
      "Epoch: 20, Train Loss: 0.2837, Train Acc: 0.9491, Eval Loss: 0.2614, Eval Acc: 0.9540\n",
      "Epoch: 21, Train Loss: 0.2832, Train Acc: 0.9491, Eval Loss: 0.2620, Eval Acc: 0.9533\n",
      "Epoch: 22, Train Loss: 0.2815, Train Acc: 0.9495, Eval Loss: 0.2634, Eval Acc: 0.9516\n",
      "Epoch: 23, Train Loss: 0.2834, Train Acc: 0.9483, Eval Loss: 0.2606, Eval Acc: 0.9523\n",
      "Epoch: 24, Train Loss: 0.2844, Train Acc: 0.9483, Eval Loss: 0.2606, Eval Acc: 0.9540\n",
      "Epoch: 25, Train Loss: 0.2837, Train Acc: 0.9489, Eval Loss: 0.2601, Eval Acc: 0.9536\n",
      "Epoch: 26, Train Loss: 0.2822, Train Acc: 0.9491, Eval Loss: 0.2554, Eval Acc: 0.9529\n",
      "Epoch: 27, Train Loss: 0.2836, Train Acc: 0.9498, Eval Loss: 0.2643, Eval Acc: 0.9542\n",
      "Epoch: 28, Train Loss: 0.2820, Train Acc: 0.9489, Eval Loss: 0.2633, Eval Acc: 0.9531\n",
      "Epoch: 29, Train Loss: 0.2823, Train Acc: 0.9487, Eval Loss: 0.2601, Eval Acc: 0.9531\n"
     ]
    }
   ],
   "source": [
    "# 开始训练\n",
    "losses = []\n",
    "access = []\n",
    "eval_losses = []\n",
    "eval_access = []\n",
    "\n",
    "for epoch in range(num_epochs):\n",
    "    train_loss = 0\n",
    "    train_acc = 0\n",
    "    model.train()\n",
    "    # 动态修改参数学习率\n",
    "    if epoch % 5 == 0:\n",
    "        optimizer.param_groups[0]['lr'] *= 0.1\n",
    "    for img, label in train_loader:\n",
    "        img = img.to(device)\n",
    "        label = label.to(device)\n",
    "        img = img.view(img.size(0), -1)\n",
    "        # 前向传播\n",
    "        output = model(img)\n",
    "        loss = criterion(output, label)\n",
    "        # 反向传播\n",
    "        optimizer.zero_grad()\n",
    "        loss.backward()\n",
    "        optimizer.step()\n",
    "        # 记录误差\n",
    "        train_loss += loss.item()\n",
    "        # 计算分类的准确率\n",
    "        _, pred = output.max(1)\n",
    "        num_correct = (pred == label).sum().item()\n",
    "        acc = num_correct / img.shape[0]\n",
    "        train_acc += acc\n",
    "\n",
    "    losses.append(train_loss / len(train_loader))\n",
    "    access.append(train_acc / len(train_loader))\n",
    "    # 在测试集上评估模型\n",
    "    eval_loss = 0\n",
    "    eval_acc = 0\n",
    "    # 切换到测试模式\n",
    "    model.eval()\n",
    "    for img, label in test_loader:\n",
    "        img = img.to(device)\n",
    "        label = label.to(device)\n",
    "        img = img.view(img.size(0), -1)\n",
    "        output = model(img)\n",
    "        loss = criterion(output, label)\n",
    "        # 记录误差\n",
    "        eval_loss += loss.item()\n",
    "        # 计算分类的准确率\n",
    "        _, pred = output.max(1)\n",
    "        num_correct = (pred == label).sum().item()\n",
    "        acc = num_correct / img.shape[0]\n",
    "        eval_acc += acc\n",
    "\n",
    "    eval_losses.append(eval_loss / len(test_loader))\n",
    "    eval_access.append(eval_acc / len(test_loader))\n",
    "    print('Epoch: {}, Train Loss: {:.4f}, Train Acc: {:.4f}, Eval Loss: {:.4f}, Eval Acc: {:.4f}'.format(epoch, train_loss / len(train_loader), train_acc / len(train_loader), eval_loss / len(test_loader), eval_acc / len(test_loader)))"
   ]
  },
  {
   "cell_type": "markdown",
   "metadata": {},
   "source": [
    "## 5.2 可视化训练及测试损失值"
   ]
  },
  {
   "cell_type": "code",
   "execution_count": 31,
   "metadata": {},
   "outputs": [
    {
     "data": {
      "image/png": "[encoded data removed]",
      "text/plain": [
       "<Figure size 432x288 with 1 Axes>"
      ]
     },
     "metadata": {
      "needs_background": "light"
     },
     "output_type": "display_data"
    }
   ],
   "source": [
    "plt.title('trainLoss')\n",
    "plt.plot(np.arange(len(losses)), losses)\n",
    "plt.legend(['Train Loss'], loc='upper right')\n",
    "plt.show()"
   ]
  },
  {
   "cell_type": "code",
   "execution_count": null,
   "metadata": {},
   "outputs": [],
   "source": []
  }
 ],
 "metadata": {
  "interpreter": {
   "hash": "11fcaed61a1d45e3eb86466b32a16099d41afbc82c0272696a8e6e99d4b84df5"
  },
  "kernelspec": {
   "display_name": "Python 3.8.12 64-bit ('ml': conda)",
   "name": "python3"
  },
  "language_info": {
   "codemirror_mode": {
    "name": "ipython",
    "version": 3
   },
   "file_extension": ".py",
   "mimetype": "text/x-python",
   "name": "python",
   "nbconvert_exporter": "python",
   "pygments_lexer": "ipython3",
   "version": "3.8.12"
  },
  "orig_nbformat": 4
 },
 "nbformat": 4,
 "nbformat_minor": 2
}
