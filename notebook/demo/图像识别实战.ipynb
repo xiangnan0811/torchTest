{
 "cells": [
  {
   "cell_type": "markdown",
   "metadata": {},
   "source": [
    "# 基于经典网络架构训练图像分类模型"
   ]
  },
  {
   "cell_type": "markdown",
   "metadata": {},
   "source": [
    "## 数据预处理部分：\n",
    "* 数据增强：torchvision 中 transforms 模块自带功能\n",
    "* 数据预处理：torchvision 中 transforms 模块自带功能\n",
    "* DataLoader 模块直接读取 batch 数据"
   ]
  },
  {
   "cell_type": "markdown",
   "metadata": {},
   "source": [
    "## 网络模块设置：\n",
    "* 加载预训练模型，torchvision中有很多经典网络架构，调用起来十分方便，并目可以用训练好的权重参数来继续训练，也就是所谓的迁移学习\n",
    "* 需要注意的是已训练好的任务跟当前的不完全一样，需要把最后的head层改一改，一般也就是最后的全连接层，改成当前任务\n",
    "* 训练时可以全部重新训练，也可以只训练最后当前任务的层，因为前几层都是做特征提取的，本质任务目标是一致的"
   ]
  },
  {
   "cell_type": "markdown",
   "metadata": {},
   "source": [
    "## 网络模型保存与测试：\n",
    "* 模型保存的时候可以带有选择性\n",
    "* 读取模型进行实际测试"
   ]
  },
  {
   "cell_type": "code",
   "execution_count": 1,
   "metadata": {},
   "outputs": [],
   "source": [
    "import os\n",
    "import matplotlib.pyplot as plt\n",
    "%matplotlib inline\n",
    "import numpy as np\n",
    "import torch\n",
    "import torch.nn as nn\n",
    "import torch.nn.functional as F\n",
    "import torch.optim as optim\n",
    "from torchvision import datasets, transforms, models\n",
    "import torchvision\n",
    "import imageio\n",
    "import time\n",
    "import warnings\n",
    "import random\n",
    "import copy\n",
    "import sys\n",
    "import json\n",
    "from PIL import Image"
   ]
  },
  {
   "cell_type": "markdown",
   "metadata": {},
   "source": [
    "## 1. 数据读取与预处理操作"
   ]
  },
  {
   "cell_type": "code",
   "execution_count": 2,
   "metadata": {},
   "outputs": [],
   "source": [
    "data_dir = '../../data/flower_data'\n",
    "train_dir = f'{data_dir}/train'\n",
    "valid_dir = f'{data_dir}/valid'"
   ]
  },
  {
   "cell_type": "code",
   "execution_count": null,
   "metadata": {},
   "outputs": [],
   "source": []
  }
 ],
 "metadata": {
  "interpreter": {
   "hash": "11fcaed61a1d45e3eb86466b32a16099d41afbc82c0272696a8e6e99d4b84df5"
  },
  "kernelspec": {
   "display_name": "Python 3.8.12 64-bit ('ml': conda)",
   "name": "python3"
  },
  "language_info": {
   "codemirror_mode": {
    "name": "ipython",
    "version": 3
   },
   "file_extension": ".py",
   "mimetype": "text/x-python",
   "name": "python",
   "nbconvert_exporter": "python",
   "pygments_lexer": "ipython3",
   "version": "3.8.12"
  },
  "orig_nbformat": 4
 },
 "nbformat": 4,
 "nbformat_minor": 2
}
