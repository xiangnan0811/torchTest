{
 "cells": [
  {
   "cell_type": "markdown",
   "metadata": {},
   "source": [
    "# 构建卷积神经网络\n",
    "\n",
    "* 卷积网络中的输入和层与传统神经网路有点区别，需重新设计，训练模块基本一致"
   ]
  },
  {
   "cell_type": "code",
   "execution_count": 4,
   "metadata": {},
   "outputs": [],
   "source": [
    "import torch\n",
    "import torch.nn as nn\n",
    "import torch.optim as optim\n",
    "import torch.nn.functional as F\n",
    "from torchvision import datasets, transforms\n",
    "import matplotlib.pyplot as plt\n",
    "import numpy as np\n",
    "%matplotlib inline"
   ]
  },
  {
   "cell_type": "markdown",
   "metadata": {},
   "source": [
    "# 首先读取数据\n",
    "\n",
    "* 分别构建训练集和测试集（验证集）\n",
    "* Dataloader 来迭代取数据"
   ]
  },
  {
   "cell_type": "code",
   "execution_count": 5,
   "metadata": {},
   "outputs": [],
   "source": [
    "# 定义超参数\n",
    "input_size = 28          # 图像的总尺寸 28 * 28\n",
    "num_classes = 10         # 标签的种类数\n",
    "num_epoches = 3          # 训练的总循环周期\n",
    "batch_size = 64          # 一个批次的大小，64 张图片"
   ]
  },
  {
   "cell_type": "code",
   "execution_count": 6,
   "metadata": {},
   "outputs": [],
   "source": [
    "# 数据划分\n",
    "# 训练集\n",
    "train_dataset = datasets.MNIST(\n",
    "    root='../../data',\n",
    "    train=True,\n",
    "    transform=transforms.ToTensor(),\n",
    "    download=True\n",
    ")\n",
    "# 测试集\n",
    "test_dataset = datasets.MNIST(\n",
    "    root='../../data',\n",
    "    train=False,\n",
    "    transform=transforms.ToTensor(),\n",
    "    download=True\n",
    ")\n",
    "\n",
    "# 构建 batch 数据\n",
    "train_loader = torch.utils.data.DataLoader(\n",
    "    dataset=train_dataset,\n",
    "    batch_size=batch_size,\n",
    "    shuffle=True,\n",
    ")\n",
    "test_loader = torch.utils.data.DataLoader(\n",
    "    dataset=test_dataset,\n",
    "    batch_size=batch_size,\n",
    "    shuffle=True,\n",
    ")"
   ]
  },
  {
   "cell_type": "markdown",
   "metadata": {},
   "source": [
    "# 卷积网络模块构建\n",
    "\n",
    "* 一般卷积层、relu层、池化层可以写成一个套餐\n",
    "* 注意卷积最后结果还是一个特征图，需要把图转换成向量才能做分类或者回归任务"
   ]
  },
  {
   "cell_type": "code",
   "execution_count": 10,
   "metadata": {},
   "outputs": [],
   "source": [
    "class CNN(nn.Module):\n",
    "    def __init__(self):\n",
    "        super(CNN, self).__init__()\n",
    "        self.conv1 = nn.Sequential(             # 输入大小 (1, 28, 28)\n",
    "            nn.Conv2d(\n",
    "                in_channels=1,                  # 灰度图\n",
    "                out_channels=16,                # 要得到几个特征图\n",
    "                kernel_size=5,                  # 卷积核大小\n",
    "                stride=1,                       # 步长\n",
    "                padding=2,                      # 边缘填充\n",
    "            ),                                  # 输出的特征图为 (16, 28, 28)\n",
    "            nn.ReLU(),                          # relu 层\n",
    "            nn.maxPool2d(kernel_size=2),        # 池化层 输出结果为 (16, 14, 14)\n",
    "        )\n",
    "        self.conv2 = nn.Sequential(             # 下一个套餐的输入\n",
    "            nn.Conv2d(16, 32, 5, 1, 2),         # 输出  (32, 14, 14)\n",
    "            nn.ReLU(),                          # relu 层\n",
    "            nn.MaxPool2d(2),                    # 输出层 （32, 7, 7）\n",
    "        )\n",
    "        self.out = nn.Linear(32 * 7 * 7, 10)\n",
    "\n",
    "    def forward(self, x):\n",
    "        x = self.conv1(x)\n",
    "        x = self.conv2(x)\n",
    "        x = x.view(x.size(0), -1)\n",
    "        output = self.out(x)\n",
    "        return(output)\n"
   ]
  }
 ],
 "metadata": {
  "interpreter": {
   "hash": "11fcaed61a1d45e3eb86466b32a16099d41afbc82c0272696a8e6e99d4b84df5"
  },
  "kernelspec": {
   "display_name": "Python 3.8.12 64-bit ('ml': conda)",
   "name": "python3"
  },
  "language_info": {
   "codemirror_mode": {
    "name": "ipython",
    "version": 3
   },
   "file_extension": ".py",
   "mimetype": "text/x-python",
   "name": "python",
   "nbconvert_exporter": "python",
   "pygments_lexer": "ipython3",
   "version": "3.8.12"
  },
  "orig_nbformat": 4
 },
 "nbformat": 4,
 "nbformat_minor": 2
}
