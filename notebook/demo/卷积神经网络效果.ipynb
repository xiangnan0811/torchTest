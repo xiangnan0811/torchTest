{
 "cells": [
  {
   "cell_type": "markdown",
   "metadata": {},
   "source": [
    "# 构建卷积神经网络\n",
    "\n",
    "* 卷积网络中的输入和层与传统神经网路有点区别，需重新设计，训练模块基本一致"
   ]
  },
  {
   "cell_type": "code",
   "execution_count": 14,
   "metadata": {},
   "outputs": [],
   "source": [
    "import torch\n",
    "import torch.nn as nn\n",
    "import torch.optim as optim\n",
    "import torch.nn.functional as F\n",
    "from torchvision import datasets, transforms\n",
    "import matplotlib.pyplot as plt\n",
    "import numpy as np\n",
    "%matplotlib inline"
   ]
  },
  {
   "cell_type": "markdown",
   "metadata": {},
   "source": [
    "# 首先读取数据\n",
    "\n",
    "* 分别构建训练集和测试集（验证集）\n",
    "* Dataloader 来迭代取数据"
   ]
  },
  {
   "cell_type": "code",
   "execution_count": 15,
   "metadata": {},
   "outputs": [],
   "source": [
    "# 定义超参数\n",
    "input_size = 28          # 图像的总尺寸 28 * 28\n",
    "num_classes = 10         # 标签的种类数\n",
    "num_epochs = 3           # 训练的总循环周期\n",
    "batch_size = 64          # 一个批次的大小，64 张图片"
   ]
  },
  {
   "cell_type": "code",
   "execution_count": 16,
   "metadata": {},
   "outputs": [],
   "source": [
    "# 数据划分\n",
    "# 训练集\n",
    "train_dataset = datasets.MNIST(\n",
    "    root='../../data',\n",
    "    train=True,\n",
    "    transform=transforms.ToTensor(),\n",
    "    download=True\n",
    ")\n",
    "# 测试集\n",
    "test_dataset = datasets.MNIST(\n",
    "    root='../../data',\n",
    "    train=False,\n",
    "    transform=transforms.ToTensor(),\n",
    "    download=True\n",
    ")\n",
    "\n",
    "# 构建 batch 数据\n",
    "train_loader = torch.utils.data.DataLoader(\n",
    "    dataset=train_dataset,\n",
    "    batch_size=batch_size,\n",
    "    shuffle=True,\n",
    ")\n",
    "test_loader = torch.utils.data.DataLoader(\n",
    "    dataset=test_dataset,\n",
    "    batch_size=batch_size,\n",
    "    shuffle=True,\n",
    ")"
   ]
  },
  {
   "cell_type": "markdown",
   "metadata": {},
   "source": [
    "# 卷积网络模块构建\n",
    "\n",
    "* 一般卷积层、relu层、池化层可以写成一个套餐\n",
    "* 注意卷积最后结果还是一个特征图，需要把图转换成向量才能做分类或者回归任务"
   ]
  },
  {
   "cell_type": "code",
   "execution_count": 17,
   "metadata": {},
   "outputs": [],
   "source": [
    "class CNN(nn.Module):\n",
    "    def __init__(self):\n",
    "        super(CNN, self).__init__()\n",
    "        self.conv1 = nn.Sequential(             # 输入大小 (1, 28, 28)\n",
    "            nn.Conv2d(\n",
    "                in_channels=1,                  # 灰度图\n",
    "                out_channels=16,                # 要得到几个特征图\n",
    "                kernel_size=(5, 5),             # 卷积核大小\n",
    "                stride=(1, 1),                  # 步长\n",
    "                padding=2,                      # 边缘填充\n",
    "            ),                                  # 输出的特征图为 (16, 28, 28)\n",
    "            nn.ReLU(),                          # relu 层\n",
    "            nn.MaxPool2d(kernel_size=2),        # 池化层 输出结果为 (16, 14, 14)\n",
    "        )\n",
    "        self.conv2 = nn.Sequential(             # 下一个套餐的输入\n",
    "            nn.Conv2d(16, 32, 5, 1, 2),         # 输出  (32, 14, 14)\n",
    "            nn.ReLU(),                          # relu 层\n",
    "            nn.MaxPool2d(2),                    # 输出层 （32, 7, 7）\n",
    "        )\n",
    "        self.out = nn.Linear(32 * 7 * 7, 10)    # 全连接层得到的结果\n",
    "\n",
    "    def forward(self, x):\n",
    "        x = self.conv1(x)\n",
    "        x = self.conv2(x)\n",
    "        x = x.view(x.size(0), -1)               # flatten 操作，结果为 (batch_size, 32 * 7 * 7)\n",
    "        output = self.out(x)\n",
    "        return output"
   ]
  },
  {
   "cell_type": "markdown",
   "metadata": {
    "collapsed": false,
    "pycharm": {
     "name": "#%% md\n"
    }
   },
   "source": [
    "# 准确率作为评估标准"
   ]
  },
  {
   "cell_type": "code",
   "execution_count": 18,
   "metadata": {
    "collapsed": false,
    "pycharm": {
     "name": "#%%\n"
    }
   },
   "outputs": [],
   "source": [
    "def accuracy(prediction, labels):\n",
    "    pred = torch.max(prediction.data, 1)[1]\n",
    "    rights = pred.eq(labels.data.view_as(pred)).sum()\n",
    "    return rights, len(labels)"
   ]
  },
  {
   "cell_type": "markdown",
   "metadata": {
    "collapsed": false,
    "pycharm": {
     "name": "#%% md\n"
    }
   },
   "source": [
    "# 训练网络模型"
   ]
  },
  {
   "cell_type": "code",
   "execution_count": 19,
   "metadata": {
    "collapsed": false,
    "pycharm": {
     "name": "#%%\n"
    }
   },
   "outputs": [
    {
     "name": "stdout",
     "output_type": "stream",
     "text": [
      "当前epoch: 0 [    0 / 60000 (0%)]\t损失: 2.307749\t训练集正确率: 17.19%\n",
      "当前epoch: 0 [ 6400 / 60000 (11%)]\t损失: 0.355683\t训练集正确率: 77.51%\n",
      "当前epoch: 0 [12800 / 60000 (21%)]\t损失: 0.219310\t训练集正确率: 85.47%\n",
      "当前epoch: 0 [19200 / 60000 (32%)]\t损失: 0.187387\t训练集正确率: 88.76%\n",
      "当前epoch: 0 [25600 / 60000 (43%)]\t损失: 0.159981\t训练集正确率: 90.65%\n",
      "当前epoch: 0 [32000 / 60000 (53%)]\t损失: 0.163418\t训练集正确率: 91.86%\n",
      "当前epoch: 0 [38400 / 60000 (64%)]\t损失: 0.106917\t训练集正确率: 92.75%\n",
      "当前epoch: 0 [44800 / 60000 (75%)]\t损失: 0.073096\t训练集正确率: 93.39%\n",
      "当前epoch: 0 [51200 / 60000 (85%)]\t损失: 0.091262\t训练集正确率: 93.90%\n",
      "当前epoch: 0 [57600 / 60000 (96%)]\t损失: 0.052043\t训练集正确率: 94.28%\n",
      "当前epoch: 1 [    0 / 60000 (0%)]\t损失: 0.049952\t训练集正确率: 96.88%\n",
      "当前epoch: 1 [ 6400 / 60000 (11%)]\t损失: 0.042179\t训练集正确率: 98.33%\n",
      "当前epoch: 1 [12800 / 60000 (21%)]\t损失: 0.108506\t训练集正确率: 98.19%\n",
      "当前epoch: 1 [19200 / 60000 (32%)]\t损失: 0.345055\t训练集正确率: 98.03%\n",
      "当前epoch: 1 [25600 / 60000 (43%)]\t损失: 0.027139\t训练集正确率: 98.08%\n",
      "当前epoch: 1 [32000 / 60000 (53%)]\t损失: 0.010878\t训练集正确率: 98.09%\n",
      "当前epoch: 1 [38400 / 60000 (64%)]\t损失: 0.022915\t训练集正确率: 98.15%\n",
      "当前epoch: 1 [44800 / 60000 (75%)]\t损失: 0.061654\t训练集正确率: 98.19%\n",
      "当前epoch: 1 [51200 / 60000 (85%)]\t损失: 0.119554\t训练集正确率: 98.23%\n",
      "当前epoch: 1 [57600 / 60000 (96%)]\t损失: 0.049597\t训练集正确率: 98.25%\n",
      "当前epoch: 2 [    0 / 60000 (0%)]\t损失: 0.013937\t训练集正确率: 100.00%\n",
      "当前epoch: 2 [ 6400 / 60000 (11%)]\t损失: 0.071198\t训练集正确率: 98.92%\n",
      "当前epoch: 2 [12800 / 60000 (21%)]\t损失: 0.205512\t训练集正确率: 98.90%\n",
      "当前epoch: 2 [19200 / 60000 (32%)]\t损失: 0.011590\t训练集正确率: 98.85%\n",
      "当前epoch: 2 [25600 / 60000 (43%)]\t损失: 0.063263\t训练集正确率: 98.76%\n",
      "当前epoch: 2 [32000 / 60000 (53%)]\t损失: 0.057729\t训练集正确率: 98.75%\n",
      "当前epoch: 2 [38400 / 60000 (64%)]\t损失: 0.005800\t训练集正确率: 98.70%\n",
      "当前epoch: 2 [44800 / 60000 (75%)]\t损失: 0.008528\t训练集正确率: 98.73%\n",
      "当前epoch: 2 [51200 / 60000 (85%)]\t损失: 0.036422\t训练集正确率: 98.73%\n",
      "当前epoch: 2 [57600 / 60000 (96%)]\t损失: 0.014542\t训练集正确率: 98.73%\n"
     ]
    }
   ],
   "source": [
    "# 实例化\n",
    "net = CNN()\n",
    "# 损失函数\n",
    "criterion = nn.CrossEntropyLoss()\n",
    "# 优化器\n",
    "optimizer = optim.Adam(net.parameters(), lr=0.001)\n",
    "\n",
    "# 开始训练循环\n",
    "for epoch in range(num_epochs):\n",
    "    # 当前 epoch 的结果保存下来\n",
    "    train_rights = []\n",
    "\n",
    "    for batch_idx, (data, target) in enumerate(train_loader):\n",
    "        net.train()\n",
    "        output = net(data)\n",
    "        loss = criterion(output, target)\n",
    "        optimizer.zero_grad()\n",
    "        loss.backward()\n",
    "        optimizer.step()\n",
    "        right = accuracy(output, target)\n",
    "        train_rights.append(right)\n",
    "\n",
    "        if batch_idx % 100 == 0:\n",
    "            net.eval()\n",
    "            val_rights = []\n",
    "\n",
    "            for data, target in test_loader:\n",
    "                output = net(data)\n",
    "                right = accuracy(output, target)\n",
    "                val_rights.append(right)\n",
    "\n",
    "            # 准确率计算\n",
    "            train_r = (sum([tup[0] for tup in train_rights]), sum([tup[1] for tup in train_rights]))\n",
    "            val_r = (sum([tup[0] for tup in val_rights]), sum([tup[1] for tup in val_rights]))\n",
    "\n",
    "            print('当前epoch: {} [{:5d} / {} ({:.0f}%)]\\t损失: {:.6f}\\t训练集正确率: {:.2f}%'.format(\n",
    "                epoch,\n",
    "                batch_idx * batch_size,\n",
    "                len(train_loader.dataset),\n",
    "                100. * batch_idx / len(train_loader),\n",
    "                loss.data,\n",
    "                100. * train_r[0].numpy() / train_r[1],\n",
    "                100. * val_r[0].numpy() / val_r[1]\n",
    "            ))\n"
   ]
  }
 ],
 "metadata": {
  "interpreter": {
   "hash": "11fcaed61a1d45e3eb86466b32a16099d41afbc82c0272696a8e6e99d4b84df5"
  },
  "kernelspec": {
   "display_name": "Python 3.8.12 64-bit ('ml': conda)",
   "name": "python3"
  },
  "language_info": {
   "codemirror_mode": {
    "name": "ipython",
    "version": 3
   },
   "file_extension": ".py",
   "mimetype": "text/x-python",
   "name": "python",
   "nbconvert_exporter": "python",
   "pygments_lexer": "ipython3",
   "version": "3.8.12"
  },
  "orig_nbformat": 4
 },
 "nbformat": 4,
 "nbformat_minor": 2
}
