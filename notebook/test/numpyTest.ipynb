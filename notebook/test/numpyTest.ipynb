{
 "cells": [
  {
   "cell_type": "code",
   "execution_count": 1,
   "metadata": {},
   "outputs": [],
   "source": [
    "import numpy as np"
   ]
  },
  {
   "cell_type": "code",
   "execution_count": 2,
   "metadata": {},
   "outputs": [],
   "source": [
    "rd5 = np.random.random([5, 5])"
   ]
  },
  {
   "cell_type": "code",
   "execution_count": 3,
   "metadata": {},
   "outputs": [
    {
     "name": "stdout",
     "output_type": "stream",
     "text": [
      "[[0.67588002 0.39857002 0.20611159 0.01612681 0.74945239]\n",
      " [0.50001781 0.4363525  0.51376764 0.10800809 0.80375314]\n",
      " [0.82204042 0.63070188 0.0547008  0.14264139 0.5935965 ]\n",
      " [0.75007755 0.87407694 0.384653   0.25115618 0.14994737]\n",
      " [0.8895249  0.50504913 0.26323893 0.05033357 0.93734591]]\n"
     ]
    }
   ],
   "source": [
    "print(rd5)"
   ]
  },
  {
   "cell_type": "code",
   "execution_count": 7,
   "metadata": {},
   "outputs": [
    {
     "name": "stdout",
     "output_type": "stream",
     "text": [
      "[[0.13941494 0.31692446 0.89404522 0.8579769  0.47457665]\n",
      " [0.91898705 0.00201377 0.8830034  0.70111395 0.78914401]\n",
      " [0.31635412 0.44913117 0.28329968 0.79513089 0.4169563 ]\n",
      " [0.68443773 0.64670121 0.18687077 0.72321369 0.16368902]\n",
      " [0.31847417 0.13696727 0.74667016 0.11387914 0.08376455]]\n"
     ]
    }
   ],
   "source": [
    "print(np.random.random([5, 5]))"
   ]
  },
  {
   "cell_type": "code",
   "execution_count": 21,
   "metadata": {},
   "outputs": [],
   "source": [
    "np.random.seed(123)"
   ]
  },
  {
   "cell_type": "code",
   "execution_count": 37,
   "metadata": {},
   "outputs": [
    {
     "name": "stdout",
     "output_type": "stream",
     "text": [
      "[[0.66931378 0.58593655]\n",
      " [0.6249035  0.67468905]]\n"
     ]
    }
   ],
   "source": [
    "print(np.random.random([2, 2]))"
   ]
  }
 ],
 "metadata": {
  "interpreter": {
   "hash": "11fcaed61a1d45e3eb86466b32a16099d41afbc82c0272696a8e6e99d4b84df5"
  },
  "kernelspec": {
   "display_name": "Python 3.8.12 64-bit ('ml': conda)",
   "name": "python3"
  },
  "language_info": {
   "codemirror_mode": {
    "name": "ipython",
    "version": 3
   },
   "file_extension": ".py",
   "mimetype": "text/x-python",
   "name": "python",
   "nbconvert_exporter": "python",
   "pygments_lexer": "ipython3",
   "version": "3.8.12"
  },
  "orig_nbformat": 4
 },
 "nbformat": 4,
 "nbformat_minor": 2
}
